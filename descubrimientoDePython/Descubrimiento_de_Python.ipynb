{
  "nbformat": 4,
  "nbformat_minor": 0,
  "metadata": {
    "colab": {
      "provenance": [],
      "authorship_tag": "ABX9TyPLFmUmiaPULAM4y2ZuQOUr",
      "include_colab_link": true
    },
    "kernelspec": {
      "name": "python3",
      "display_name": "Python 3"
    },
    "language_info": {
      "name": "python"
    }
  },
  "cells": [
    {
      "cell_type": "markdown",
      "metadata": {
        "id": "view-in-github",
        "colab_type": "text"
      },
      "source": [
        "<a href=\"https://colab.research.google.com/github/Ims2002/sistemas-expertos/blob/main/descubrimientoDePython/Descubrimiento_de_Python.ipynb\" target=\"_parent\"><img src=\"https://colab.research.google.com/assets/colab-badge.svg\" alt=\"Open In Colab\"/></a>"
      ]
    },
    {
      "cell_type": "markdown",
      "source": [
        "**Ejercicio 1**  \n",
        "*Operaciones Matemáticas Básicas*"
      ],
      "metadata": {
        "id": "rWRtn0eHLBPB"
      }
    },
    {
      "cell_type": "code",
      "execution_count": 1,
      "metadata": {
        "colab": {
          "base_uri": "https://localhost:8080/"
        },
        "id": "Up0nA6GVKrBT",
        "outputId": "c83660e9-2db1-4790-b2cb-e569e63d034d"
      },
      "outputs": [
        {
          "output_type": "stream",
          "name": "stdout",
          "text": [
            "Ingrese el primer número: 5\n",
            "Ingrese el segundo número: 2.5\n",
            "Suma: 7.5\n",
            "Resta: 2.5\n",
            "Multiplicación: 12.5\n",
            "División: 2.0\n"
          ]
        }
      ],
      "source": [
        "# Programa que realiza operaciones matemáticas básicas\n",
        "\n",
        "# Función para realizar la suma\n",
        "def suma(a, b):\n",
        "    return a + b\n",
        "\n",
        "# Función para realizar la resta\n",
        "def resta(a, b):\n",
        "    return a - b\n",
        "\n",
        "# Función para realizar la multiplicación\n",
        "def multiplicacion(a, b):\n",
        "    return a * b\n",
        "\n",
        "# Función para realizar la división\n",
        "def division(a, b):\n",
        "    # Manejo de la división por cero\n",
        "    if b == 0:\n",
        "        return \"Error: No se puede dividir por cero.\"\n",
        "    else:\n",
        "        return a / b\n",
        "\n",
        "# Solicitar al usuario dos números\n",
        "num1 = float(input(\"Ingrese el primer número: \"))\n",
        "num2 = float(input(\"Ingrese el segundo número: \"))\n",
        "\n",
        "# Realizar operaciones matemáticas\n",
        "resultado_suma = suma(num1, num2)\n",
        "resultado_resta = resta(num1, num2)\n",
        "resultado_multiplicacion = multiplicacion(num1, num2)\n",
        "resultado_division = division(num1, num2)\n",
        "\n",
        "# Mostrar los resultados\n",
        "print(f\"Suma: {resultado_suma}\")\n",
        "print(f\"Resta: {resultado_resta}\")\n",
        "print(f\"Multiplicación: {resultado_multiplicacion}\")\n",
        "print(f\"División: {resultado_division}\")\n"
      ]
    },
    {
      "cell_type": "markdown",
      "source": [
        "**Ejercicio2**  \n",
        "*Conversión de unidades*\n",
        "\n"
      ],
      "metadata": {
        "id": "DSNSRPYALUSk"
      }
    },
    {
      "cell_type": "code",
      "source": [
        "def celsius_a_fahrenheit(celsius):\n",
        "    return celsius * 9/5 + 32\n",
        "\n",
        "def kilometros_a_millas(kilometros):\n",
        "    return kilometros / 1.60934\n",
        "\n",
        "def main():\n",
        "    print(\"Bienvenido al programa de conversión de unidades.\")\n",
        "    opcion = input(\"Seleccione la conversión que desea realizar:\\n1. Celsius a Fahrenheit\\n2. Kilómetros a Millas\\n\")\n",
        "\n",
        "    if opcion == \"1\":\n",
        "        celsius = float(input(\"Ingrese la temperatura en grados Celsius: \"))\n",
        "        fahrenheit = celsius_a_fahrenheit(celsius)\n",
        "        print(f\"{celsius} grados Celsius son {fahrenheit} grados Fahrenheit.\")\n",
        "    elif opcion == \"2\":\n",
        "        kilometros = float(input(\"Ingrese la distancia en kilómetros: \"))\n",
        "        millas = kilometros_a_millas(kilometros)\n",
        "        print(f\"{kilometros} kilómetros son aproximadamente {millas} millas.\")\n",
        "    else:\n",
        "        print(\"Opción no válida. Por favor, seleccione 1 o 2.\")\n",
        "\n",
        "if __name__ == \"__main__\":\n",
        "    main()\n"
      ],
      "metadata": {
        "colab": {
          "base_uri": "https://localhost:8080/"
        },
        "id": "KkxnV8gCKzpv",
        "outputId": "b54f575b-e8c8-469b-9ff6-78d46969c313"
      },
      "execution_count": 3,
      "outputs": [
        {
          "output_type": "stream",
          "name": "stdout",
          "text": [
            "Bienvenido al programa de conversión de unidades.\n",
            "Seleccione la conversión que desea realizar:\n",
            "1. Celsius a Fahrenheit\n",
            "2. Kilómetros a Millas\n",
            "2\n",
            "Ingrese la distancia en kilómetros: 15\n",
            "15.0 kilómetros son aproximadamente 9.320591049747101 millas.\n"
          ]
        }
      ]
    },
    {
      "cell_type": "markdown",
      "source": [
        "**Ejercicio 3**  \n",
        "*Cálculo de Áreas*"
      ],
      "metadata": {
        "id": "TwfW6NmHMQtt"
      }
    },
    {
      "cell_type": "code",
      "source": [
        "import math\n",
        "\n",
        "def calcular_area_cuadrado(lado):\n",
        "    return lado * lado\n",
        "\n",
        "def calcular_area_rectangulo(base, altura):\n",
        "    return base * altura\n",
        "\n",
        "def calcular_area_circulo(radio):\n",
        "    return math.pi * radio**2\n",
        "\n",
        "def main():\n",
        "    print(\"Bienvenido al programa de cálculo de áreas.\")\n",
        "    opcion = input(\"Seleccione la forma geométrica para calcular el área:\\n1. Cuadrado\\n2. Rectángulo\\n3. Círculo\\n\")\n",
        "\n",
        "    if opcion == \"1\":\n",
        "        lado = float(input(\"Ingrese la longitud del lado del cuadrado: \"))\n",
        "        area = calcular_area_cuadrado(lado)\n",
        "        print(f\"El área del cuadrado es: {area}\")\n",
        "    elif opcion == \"2\":\n",
        "        base = float(input(\"Ingrese la longitud de la base del rectángulo: \"))\n",
        "        altura = float(input(\"Ingrese la altura del rectángulo: \"))\n",
        "        area = calcular_area_rectangulo(base, altura)\n",
        "        print(f\"El área del rectángulo es: {area}\")\n",
        "    elif opcion == \"3\":\n",
        "        radio = float(input(\"Ingrese el radio del círculo: \"))\n",
        "        area = calcular_area_circulo(radio)\n",
        "        print(f\"El área del círculo es: {area}\")\n",
        "    else:\n",
        "        print(\"Opción no válida. Por favor, seleccione 1, 2 o 3.\")\n",
        "\n",
        "if __name__ == \"__main__\":\n",
        "    main()\n"
      ],
      "metadata": {
        "colab": {
          "base_uri": "https://localhost:8080/"
        },
        "id": "u3CS9ZrXLrs7",
        "outputId": "85553e97-9a83-4041-d029-4f53529ed9b5"
      },
      "execution_count": 6,
      "outputs": [
        {
          "output_type": "stream",
          "name": "stdout",
          "text": [
            "Bienvenido al programa de cálculo de áreas.\n",
            "Seleccione la forma geométrica para calcular el área:\n",
            "1. Cuadrado\n",
            "2. Rectángulo\n",
            "3. Círculo\n",
            "3\n",
            "Ingrese el radio del círculo: 4\n",
            "El área del círculo es: 50.26548245743669\n"
          ]
        }
      ]
    },
    {
      "cell_type": "markdown",
      "source": [
        "**Ejercicio 4**  \n",
        "*Listas y Bucles*\n",
        "\n",
        "\n",
        "\n",
        "\n",
        "\n"
      ],
      "metadata": {
        "id": "BsFEfCOrMROi"
      }
    },
    {
      "cell_type": "code",
      "source": [
        "def procesar_lista_numeros(lista):\n",
        "    numeros = [float(x) for x in lista]\n",
        "    suma = sum(numeros)\n",
        "    promedio = suma / len(numeros)\n",
        "    maximo = max(numeros)\n",
        "    minimo = min(numeros)\n",
        "\n",
        "    return suma, promedio, maximo, minimo\n",
        "\n",
        "def main():\n",
        "    numeros_usuario = input(\"Ingrese una lista de números separados por comas: \")\n",
        "\n",
        "    try:\n",
        "        lista_numeros = [float(num) for num in numeros_usuario.split(',')]\n",
        "        suma, promedio, maximo, minimo = procesar_lista_numeros(lista_numeros)\n",
        "\n",
        "        print(f\"Suma: {suma}\")\n",
        "        print(f\"Promedio: {promedio}\")\n",
        "        print(f\"Número más grande: {maximo}\")\n",
        "        print(f\"Número más pequeño: {minimo}\")\n",
        "\n",
        "    except ValueError:\n",
        "        print(\"Error: Ingrese números válidos separados por comas.\")\n",
        "\n",
        "if __name__ == \"__main__\":\n",
        "    main()\n"
      ],
      "metadata": {
        "colab": {
          "base_uri": "https://localhost:8080/"
        },
        "id": "SXrR3RHwN9yg",
        "outputId": "fc434e9c-7e28-42d3-a461-03179aa1fa9d"
      },
      "execution_count": 7,
      "outputs": [
        {
          "output_type": "stream",
          "name": "stdout",
          "text": [
            "Ingrese una lista de números separados por comas: 1,3,4,2,5,12,2,9,4,8,9\n",
            "Suma: 59.0\n",
            "Promedio: 5.363636363636363\n",
            "Número más grande: 12.0\n",
            "Número más pequeño: 1.0\n"
          ]
        }
      ]
    },
    {
      "cell_type": "markdown",
      "source": [
        "**Ejerccio 5**   \n",
        "*Análisis de Texto*"
      ],
      "metadata": {
        "id": "SgRam6kXMRfy"
      }
    },
    {
      "cell_type": "code",
      "source": [
        "def analizar_texto(parrafo):\n",
        "    palabras = parrafo.split()\n",
        "    numero_palabras = len(palabras)\n",
        "\n",
        "    letras = [letra for palabra in palabras for letra in palabra if letra.isalpha()]\n",
        "    numero_letras = len(letras)\n",
        "\n",
        "    palabra_mas_larga = max(palabras, key=len)\n",
        "\n",
        "    return numero_palabras, numero_letras, palabra_mas_larga\n",
        "\n",
        "def main():\n",
        "    parrafo = input(\"Ingrese un párrafo de texto: \")\n",
        "\n",
        "    numero_palabras, numero_letras, palabra_mas_larga = analizar_texto(parrafo)\n",
        "\n",
        "    print(f\"\\nAnálisis del texto:\")\n",
        "    print(f\"Número de palabras: {numero_palabras}\")\n",
        "    print(f\"Número de letras: {numero_letras}\")\n",
        "    print(f\"Palabra más larga: {palabra_mas_larga}\")\n",
        "\n",
        "if __name__ == \"__main__\":\n",
        "    main()\n"
      ],
      "metadata": {
        "colab": {
          "base_uri": "https://localhost:8080/"
        },
        "id": "t6U4TEOAOXVg",
        "outputId": "38309f06-5537-46fd-de1f-09c67e038761"
      },
      "execution_count": 8,
      "outputs": [
        {
          "output_type": "stream",
          "name": "stdout",
          "text": [
            "Ingrese un párrafo de texto: La manzada dorada fue salto decapitar cereza\n",
            "\n",
            "Análisis del texto:\n",
            "Número de palabras: 7\n",
            "Número de letras: 38\n",
            "Palabra más larga: decapitar\n"
          ]
        }
      ]
    }
  ]
}